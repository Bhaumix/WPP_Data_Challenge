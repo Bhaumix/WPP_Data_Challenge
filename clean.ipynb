{
 "cells": [
  {
   "cell_type": "code",
   "execution_count": 181,
   "metadata": {},
   "outputs": [],
   "source": [
    "import pandas as pd\n",
    "import numpy as np"
   ]
  },
  {
   "cell_type": "code",
   "execution_count": 182,
   "metadata": {},
   "outputs": [],
   "source": [
    "data = pd.read_csv(\"test.csv\")"
   ]
  },
  {
   "cell_type": "code",
   "execution_count": 183,
   "metadata": {},
   "outputs": [],
   "source": [
    "df = data.copy()"
   ]
  },
  {
   "cell_type": "code",
   "execution_count": 184,
   "metadata": {},
   "outputs": [],
   "source": [
    "df = df[df['summary'].notna()]"
   ]
  },
  {
   "cell_type": "code",
   "execution_count": 185,
   "metadata": {},
   "outputs": [],
   "source": [
    "df['Data Origin'], df['Who'], df['What'], df['When'], df['Where'], df['Auto-Sync'], df['_Source_'], df['Cite'] = [np.nan, np.nan, np.nan, np.nan, np.nan, np.nan, np.nan, np.nan]"
   ]
  },
  {
   "cell_type": "code",
   "execution_count": null,
   "metadata": {},
   "outputs": [],
   "source": [
    "c = 0\n",
    "for index, row in df.iterrows():\n",
    "    c=c+1\n",
    "    print(c)\n",
    "    lst = []\n",
    "    txt = str(row[\"summary\"])\n",
    "    lst = txt.split(\"**\")\n",
    "    print(txt)\n",
    "    if(lst.index(\"Data Origin:\")>0):\n",
    "        df[\"Data Origin\"] = lst[lst.index(\"Data Origin:\")+1]\n",
    "        print(lst[lst.index(\"Data Origin:\")+1])\n",
    "    else:\n",
    "        df[\"Data Origin\"] = np.nan\n",
    "        \n",
    "    if(lst.index(\"Who:\")>0):\n",
    "        df[\"Who\"] = lst[lst.index(\"Who:\")+1]\n",
    "    else:\n",
    "        df[\"Who\"] = np.nan\n",
    "        \n",
    "    if(lst.index(\"What:\")>0):\n",
    "        df[\"What\"] = lst[lst.index(\"What:\")+1]\n",
    "    else:\n",
    "        df[\"What\"] = np.nan\n",
    "        \n",
    "    if(lst.index(\"When:\")>0):\n",
    "        df[\"When\"] = lst[lst.index(\"When:\")+1]\n",
    "    else:\n",
    "        df[\"When\"] = np.nan\n",
    "    \n",
    "    if(lst.index(\"Auto-Sync:\")>0):\n",
    "        df[\"Auto-Sync\"] = lst[lst.index(\"Auto-Sync:\")+1]\n",
    "    else:\n",
    "        df[\"Auto-Sync\"] = np.nan\n",
    "    \n",
    "    if(lst.index(\"_Source:_\")>0):\n",
    "        df[\"_Source_\"] = lst[lst.index(\"_Source:_\")+1]\n",
    "    else:\n",
    "        df[\"_Source_\"] = np.nan\n",
    "        \n",
    "    if(lst.index(\"Cite:\")>0):\n",
    "        df[\"Cite\"] = lst[lst.index(\"Cite:\")+1]\n",
    "    else:\n",
    "        df[\"Cite\"] = np.nan"
   ]
  },
  {
   "cell_type": "code",
   "execution_count": null,
   "metadata": {},
   "outputs": [],
   "source": [
    "c=0\n",
    "for index, row in df.iterrows():\n",
    "    c=c+1\n",
    "    lst = []\n",
    "    txt = ''\n",
    "    txt = str(row[\"summary\"])\n",
    "    lst = txt.split(\"**\")\n",
    "    if(\"Data Origin:\" in lst):\n",
    "        df[\"Data Origin\"] = lst[lst.index(\"Data Origin:\")+1]\n",
    "        print(lst[lst.index(\"Data Origin:\")+1])\n",
    "    else:\n",
    "        df[\"Data Origin\"] = np.nan"
   ]
  },
  {
   "cell_type": "code",
   "execution_count": null,
   "metadata": {},
   "outputs": [],
   "source": [
    "df['Data Origin']"
   ]
  },
  {
   "cell_type": "code",
   "execution_count": null,
   "metadata": {},
   "outputs": [],
   "source": [
    "for row in df:\n",
    "    print(row['summary'])"
   ]
  },
  {
   "cell_type": "code",
   "execution_count": null,
   "metadata": {},
   "outputs": [],
   "source": [
    "for row in df.itertuples():\n",
    "    list1 = []\n",
    "    list1 = row.summary.split(\"**\")\n",
    "    for i in range(len(list1)):\n",
    "        if(list1[i] == 'Data Origin:'):\n",
    "            df['Data Origin'][row] = list1[i+1]\n",
    "            print(list1[i+1])"
   ]
  },
  {
   "cell_type": "code",
   "execution_count": null,
   "metadata": {},
   "outputs": [],
   "source": [
    "df"
   ]
  },
  {
   "cell_type": "code",
   "execution_count": null,
   "metadata": {},
   "outputs": [],
   "source": []
  }
 ],
 "metadata": {
  "kernelspec": {
   "display_name": "Python 3",
   "language": "python",
   "name": "python3"
  },
  "language_info": {
   "codemirror_mode": {
    "name": "ipython",
    "version": 3
   },
   "file_extension": ".py",
   "mimetype": "text/x-python",
   "name": "python",
   "nbconvert_exporter": "python",
   "pygments_lexer": "ipython3",
   "version": "3.8.3"
  }
 },
 "nbformat": 4,
 "nbformat_minor": 4
}
