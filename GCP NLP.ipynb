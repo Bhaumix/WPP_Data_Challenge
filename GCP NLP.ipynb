{
 "cells": [
  {
   "cell_type": "code",
   "execution_count": 1,
   "metadata": {},
   "outputs": [
    {
     "name": "stdout",
     "output_type": "stream",
     "text": [
      "\n",
      "Requirement already satisfied: tqdm in c:\\users\\bhaumik.jariwala\\miniconda3\\lib\\site-packages (4.46.0)\n",
      "Requirement already satisfied: requests in c:\\users\\bhaumik.jariwala\\miniconda3\\lib\\site-packages (2.23.0)\n",
      "Requirement already satisfied: httplib2 in c:\\users\\bhaumik.jariwala\\miniconda3\\lib\\site-packages (0.18.1)\n",
      "Requirement already satisfied: google-cloud-language in c:\\users\\bhaumik.jariwala\\miniconda3\\lib\\site-packages (1.3.0)\n",
      "Requirement already satisfied: numpy>=1.15.4 in c:\\users\\bhaumik.jariwala\\miniconda3\\lib\\site-packages (from pandas) (1.19.1)\n",
      "Requirement already satisfied: python-dateutil>=2.7.3 in c:\\users\\bhaumik.jariwala\\miniconda3\\lib\\site-packages (from pandas) (2.8.1)\n",
      "Requirement already satisfied: pytz>=2017.2 in c:\\users\\bhaumik.jariwala\\miniconda3\\lib\\site-packages (from pandas) (2020.1)\n",
      "Requirement already satisfied: chardet<4,>=3.0.2 in c:\\users\\bhaumik.jariwala\\miniconda3\\lib\\site-packages (from requests) (3.0.4)\n",
      "Requirement already satisfied: idna<3,>=2.5 in c:\\users\\bhaumik.jariwala\\miniconda3\\lib\\site-packages (from requests) (2.9)\n",
      "Requirement already satisfied: urllib3!=1.25.0,!=1.25.1,<1.26,>=1.21.1 in c:\\users\\bhaumik.jariwala\\miniconda3\\lib\\site-packages (from requests) (1.25.8)\n",
      "Requirement already satisfied: certifi>=2017.4.17 in c:\\users\\bhaumik.jariwala\\miniconda3\\lib\\site-packages (from requests) (2020.6.20)\n",
      "Requirement already satisfied: google-api-core[grpc]<2.0.0dev,>=1.14.0 in c:\\users\\bhaumik.jariwala\\miniconda3\\lib\\site-packages (from google-cloud-language) (1.22.1)\n",
      "Requirement already satisfied: six>=1.5 in c:\\users\\bhaumik.jariwala\\miniconda3\\lib\\site-packages (from python-dateutil>=2.7.3->pandas) (1.14.0)\n",
      "Requirement already satisfied: googleapis-common-protos<2.0dev,>=1.6.0 in c:\\users\\bhaumik.jariwala\\miniconda3\\lib\\site-packages (from google-api-core[grpc]<2.0.0dev,>=1.14.0->google-cloud-language) (1.52.0)\n",
      "Requirement already satisfied: protobuf>=3.12.0 in c:\\users\\bhaumik.jariwala\\miniconda3\\lib\\site-packages (from google-api-core[grpc]<2.0.0dev,>=1.14.0->google-cloud-language) (3.12.4)\n",
      "Requirement already satisfied: setuptools>=34.0.0 in c:\\users\\bhaumik.jariwala\\miniconda3\\lib\\site-packages (from google-api-core[grpc]<2.0.0dev,>=1.14.0->google-cloud-language) (46.4.0.post20200518)\n",
      "Requirement already satisfied: google-auth<2.0dev,>=1.19.1 in c:\\users\\bhaumik.jariwala\\miniconda3\\lib\\site-packages (from google-api-core[grpc]<2.0.0dev,>=1.14.0->google-cloud-language) (1.20.1)\n",
      "Requirement already satisfied: grpcio<2.0dev,>=1.29.0; extra == \"grpc\" in c:\\users\\bhaumik.jariwala\\miniconda3\\lib\\site-packages (from google-api-core[grpc]<2.0.0dev,>=1.14.0->google-cloud-language) (1.31.0)\n",
      "Requirement already satisfied: pyasn1-modules>=0.2.1 in c:\\users\\bhaumik.jariwala\\miniconda3\\lib\\site-packages (from google-auth<2.0dev,>=1.19.1->google-api-core[grpc]<2.0.0dev,>=1.14.0->google-cloud-language) (0.2.8)\n",
      "Requirement already satisfied: cachetools<5.0,>=2.0.0 in c:\\users\\bhaumik.jariwala\\miniconda3\\lib\\site-packages (from google-auth<2.0dev,>=1.19.1->google-api-core[grpc]<2.0.0dev,>=1.14.0->google-cloud-language) (4.1.1)\n",
      "Requirement already satisfied: rsa<5,>=3.1.4; python_version >= \"3.5\" in c:\\users\\bhaumik.jariwala\\miniconda3\\lib\\site-packages (from google-auth<2.0dev,>=1.19.1->google-api-core[grpc]<2.0.0dev,>=1.14.0->google-cloud-language) (4.6)\n",
      "Requirement already satisfied: pyasn1<0.5.0,>=0.4.6 in c:\\users\\bhaumik.jariwala\\miniconda3\\lib\\site-packages (from pyasn1-modules>=0.2.1->google-auth<2.0dev,>=1.19.1->google-api-core[grpc]<2.0.0dev,>=1.14.0->google-cloud-language) (0.4.8)\n",
      "All Installed.\n"
     ]
    }
   ],
   "source": [
    "from IPython.display import clear_output\n",
    "!pip install pandas tqdm requests httplib2 google-cloud-language\n",
    "clear_output()\n",
    "print('All Installed.')"
   ]
  },
  {
   "cell_type": "code",
   "execution_count": 2,
   "metadata": {},
   "outputs": [],
   "source": [
    "import httplib2\n",
    "import pandas as pd\n",
    "import logging\n",
    "import time\n",
    "from tqdm import tqdm\n",
    "import warnings\n",
    "import datetime as dt\n",
    "import os\n",
    "import string\n",
    "from datetime import timedelta, date\n",
    "from urllib.error import HTTPError\n",
    "from IPython.display import clear_output\n",
    "import requests\n",
    "import json\n",
    "\n",
    "from google.cloud import language\n",
    "from google.oauth2 import service_account\n",
    "from google.cloud.language import enums\n",
    "from google.cloud.language import types\n",
    "\n",
    "client = language.LanguageServiceClient.from_service_account_json('services.json')"
   ]
  },
  {
   "cell_type": "code",
   "execution_count": 3,
   "metadata": {},
   "outputs": [],
   "source": [
    "def pull_googlenlp(client, url, invalid_types = ['OTHER'], **data):\n",
    "    \n",
    "    '''\n",
    "    Loads HTML from a URL and passes to the Google NLP API\n",
    "    Parameters:\n",
    "        * client: Authenticated Language Service Client.\n",
    "        * url: url of page to load (str)\n",
    "        * invalid_types: entitity types to ignore (eg. CONSUMER_GOOD, NUMBER) (list) default: OTHER\n",
    "        * timeout: request timeout in seconds (int) default: 20\n",
    "    Returns:\n",
    "    Dictionary of sentiment(list), entities(list), categories(list) (dict)\n",
    "    '''    \n",
    "\n",
    "    html = load_text_from_url(url, **data)\n",
    "    \n",
    "    if not html:\n",
    "        return None\n",
    "    \n",
    "    document = types.Document(\n",
    "        content=html,\n",
    "        type=language.enums.Document.Type.HTML )\n",
    "\n",
    "    features = {'extract_syntax': True,\n",
    "                'extract_entities': True,\n",
    "                'extract_document_sentiment': True,\n",
    "                'extract_entity_sentiment': True,\n",
    "                'classify_text': False\n",
    "                }\n",
    "    \n",
    "    response = client.annotate_text(document=document, features=features)\n",
    "    sentiment = response.document_sentiment\n",
    "    entities = response.entities\n",
    "    \n",
    "    response = client.classify_text(document)\n",
    "    categories = response.categories\n",
    "        \n",
    "    def get_type(type):\n",
    "        return client.enums.Entity.Type(entity.type).name\n",
    "    \n",
    "    result = {}\n",
    "    \n",
    "    result['sentiment'] = []    \n",
    "    result['entities'] = []\n",
    "    result['categories'] = []\n",
    "\n",
    "    if sentiment:\n",
    "        result['sentiment'] = [{ 'magnitude': sentiment.magnitude, 'score':sentiment.score }]\n",
    "        \n",
    "    for entity in entities:\n",
    "        if get_type(entity.type) not in invalid_types:\n",
    "            result['entities'].append({'name': entity.name, 'type': get_type(entity.type), 'salience': entity.salience, 'wikipedia_url': entity.metadata.get('wikipedia_url', '-')  })\n",
    "            \n",
    "    for category in categories:\n",
    "        result['categories'].append({'name':category.name, 'confidence': category.confidence})\n",
    "        \n",
    "        \n",
    "    return result"
   ]
  },
  {
   "cell_type": "code",
   "execution_count": null,
   "metadata": {},
   "outputs": [],
   "source": []
  }
 ],
 "metadata": {
  "kernelspec": {
   "display_name": "Python 3",
   "language": "python",
   "name": "python3"
  },
  "language_info": {
   "codemirror_mode": {
    "name": "ipython",
    "version": 3
   },
   "file_extension": ".py",
   "mimetype": "text/x-python",
   "name": "python",
   "nbconvert_exporter": "python",
   "pygments_lexer": "ipython3",
   "version": "3.8.3"
  }
 },
 "nbformat": 4,
 "nbformat_minor": 4
}
