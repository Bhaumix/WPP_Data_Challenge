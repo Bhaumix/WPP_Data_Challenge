{
 "cells": [
  {
   "cell_type": "code",
   "execution_count": 59,
   "metadata": {},
   "outputs": [],
   "source": [
    "import pandas as pd"
   ]
  },
  {
   "cell_type": "code",
   "execution_count": 60,
   "metadata": {},
   "outputs": [],
   "source": [
    "import numpy as np"
   ]
  },
  {
   "cell_type": "code",
   "execution_count": 61,
   "metadata": {},
   "outputs": [],
   "source": [
    "data = pd.read_csv(\"test.csv\")"
   ]
  },
  {
   "cell_type": "code",
   "execution_count": 62,
   "metadata": {},
   "outputs": [],
   "source": [
    "df = data.copy()"
   ]
  },
  {
   "cell_type": "code",
   "execution_count": 63,
   "metadata": {},
   "outputs": [],
   "source": [
    "st = data['summary'][0]"
   ]
  },
  {
   "cell_type": "code",
   "execution_count": 64,
   "metadata": {},
   "outputs": [
    {
     "data": {
      "text/plain": [
       "'--- {\"editor\":\"simple\"} --- **Data Origin:** Open data linked via [@makeovermonday](https://data.world/makeovermonday) **Who:** Dataset owned and managed by Makeover Monday **What:** Quarterly reports produced by Transport for London that provide analysis of incidents on the London bus network. **When:** 2018 **Auto-Sync:** Weekly **Cite:** London Bus Safety, Makeover Monday **_Source:_** [https://data.world/makeovermonday/2018w51](https://data.world/makeovermonday/2018w51)[Transport for London](https://tfl.gov.uk/corporate/publications-and-reports/bus-safety-data)[London Buses Safety Dashboard – Q2](https://tfl.gov.uk/cdn/static/cms/documents/q2-18-london-bus-safety-dashboard.pdf)'"
      ]
     },
     "execution_count": 64,
     "metadata": {},
     "output_type": "execute_result"
    }
   ],
   "source": [
    "st"
   ]
  },
  {
   "cell_type": "code",
   "execution_count": 65,
   "metadata": {},
   "outputs": [],
   "source": [
    "lst = st.split(\"**\")"
   ]
  },
  {
   "cell_type": "code",
   "execution_count": 68,
   "metadata": {},
   "outputs": [
    {
     "data": {
      "text/plain": [
       "'--- {\"editor\":\"simple\"} --- '"
      ]
     },
     "execution_count": 68,
     "metadata": {},
     "output_type": "execute_result"
    }
   ],
   "source": [
    "lst.pop(0)"
   ]
  },
  {
   "cell_type": "code",
   "execution_count": 69,
   "metadata": {},
   "outputs": [
    {
     "data": {
      "text/plain": [
       "['Data Origin:',\n",
       " ' Open data linked via [@makeovermonday](https://data.world/makeovermonday) ',\n",
       " 'Who:',\n",
       " ' Dataset owned and managed by Makeover Monday ',\n",
       " 'What:',\n",
       " ' Quarterly reports produced by Transport for London that provide analysis of incidents on the London bus network. ',\n",
       " 'When:',\n",
       " ' 2018 ',\n",
       " 'Auto-Sync:',\n",
       " ' Weekly ',\n",
       " 'Cite:',\n",
       " ' London Bus Safety, Makeover Monday ',\n",
       " '_Source:_']"
      ]
     },
     "execution_count": 69,
     "metadata": {},
     "output_type": "execute_result"
    }
   ],
   "source": [
    "lst"
   ]
  },
  {
   "cell_type": "code",
   "execution_count": 70,
   "metadata": {},
   "outputs": [],
   "source": [
    "d = dict(zip(lst[::2], lst[1::2]))"
   ]
  },
  {
   "cell_type": "code",
   "execution_count": 71,
   "metadata": {},
   "outputs": [
    {
     "data": {
      "text/plain": [
       "{'Data Origin:': ' Open data linked via [@makeovermonday](https://data.world/makeovermonday) ',\n",
       " 'Who:': ' Dataset owned and managed by Makeover Monday ',\n",
       " 'What:': ' Quarterly reports produced by Transport for London that provide analysis of incidents on the London bus network. ',\n",
       " 'When:': ' 2018 ',\n",
       " 'Auto-Sync:': ' Weekly ',\n",
       " 'Cite:': ' London Bus Safety, Makeover Monday '}"
      ]
     },
     "execution_count": 71,
     "metadata": {},
     "output_type": "execute_result"
    }
   ],
   "source": [
    "d"
   ]
  },
  {
   "cell_type": "code",
   "execution_count": null,
   "metadata": {},
   "outputs": [],
   "source": [
    "df['Data Origin'], df['Who'], df['What'], df['When'], df['Auto-Sync'], df['_Source_'] = [np.nan, np.nan, np.nan, np.nan, np.nan, np.nan]"
   ]
  },
  {
   "cell_type": "code",
   "execution_count": null,
   "metadata": {},
   "outputs": [],
   "source": [
    "if(lst.index(\"Data Origin:\")>0):\n",
    "    print(\"Data Origin: \" + lst[lst.index(\"Data Origin:\")+1])\n",
    "elif(lst.index(\"Who:\")>0):\n",
    "    print(\"Who: \" + lst[lst.index(\"Who:\")+1])\n",
    "elif(lst.index(\"What:\")>0):\n",
    "    print(\"What: \" + lst[lst.index(\"What:\")+1])\n",
    "elif(lst.index(\"When:\")>0):\n",
    "    print(\"When: \" + lst[lst.index(\"When:\")+1])\n",
    "elif(lst.index(\"Auto-Sync:\")>0):\n",
    "    print(\"Auto-Sync: \" + lst[lst.index(\"Auto-Sync:\")+1])\n",
    "elif(lst.index(\"_Source:_\")>0):\n",
    "    print(\"_Source:_ \" + lst[lst.index(\"_Source:_\")+1])\n",
    "else:\n",
    "    print(\"NaN\")"
   ]
  },
  {
   "cell_type": "code",
   "execution_count": null,
   "metadata": {},
   "outputs": [],
   "source": [
    "lst[lst.index(\"Data Origin:\")+1]"
   ]
  },
  {
   "cell_type": "code",
   "execution_count": null,
   "metadata": {},
   "outputs": [],
   "source": [
    "for index, row in df.iterrows(): \n",
    "    txt = str(row[\"summary\"])\n",
    "    ls = txt.split(\"**\")\n",
    "    if(lst.index(\"Data Origin:\")>0):\n",
    "        df[\"Data Origin\"] = lst[lst.index(\"Data Origin:\")+1]\n",
    "    if(lst.index(\"Who:\")>0):\n",
    "        df[\"Who\"] = lst[lst.index(\"Who:\")+1]\n",
    "    if(lst.index(\"What:\")>0):\n",
    "        df[\"What\"] = lst[lst.index(\"What:\")+1]\n",
    "    if(lst.index(\"When:\")>0):\n",
    "        df[\"When\"] = lst[lst.index(\"When:\")+1]\n",
    "    if(lst.index(\"Auto-Sync:\")>0):\n",
    "        df[\"Auto-Sync\"] = lst[lst.index(\"Auto-Sync:\")+1]\n",
    "    if(lst.index(\"_Source:_\")>0):\n",
    "        df[\"_Source_\"] = lst[lst.index(\"_Source:_\")+1]"
   ]
  },
  {
   "cell_type": "code",
   "execution_count": null,
   "metadata": {
    "scrolled": true
   },
   "outputs": [],
   "source": [
    "df"
   ]
  },
  {
   "cell_type": "code",
   "execution_count": null,
   "metadata": {},
   "outputs": [],
   "source": [
    "txt1 = \"**Data Origin:** Open data linked via [@makeovermonday](/makeovermonday) **Who:** Dataset owned and managed by Makeover Monday **What:** **About this Dataset** * DATA SOURCE: [Transport for London](http://cycling.data.tfl.gov.uk/) * DESIGNER: [Sophie Sparks](https://twitter.com/sophie_sparkes) *\""
   ]
  },
  {
   "cell_type": "code",
   "execution_count": null,
   "metadata": {},
   "outputs": [],
   "source": [
    "txt1.split(\"**\")"
   ]
  },
  {
   "cell_type": "code",
   "execution_count": null,
   "metadata": {},
   "outputs": [],
   "source": []
  }
 ],
 "metadata": {
  "kernelspec": {
   "display_name": "Python 3",
   "language": "python",
   "name": "python3"
  },
  "language_info": {
   "codemirror_mode": {
    "name": "ipython",
    "version": 3
   },
   "file_extension": ".py",
   "mimetype": "text/x-python",
   "name": "python",
   "nbconvert_exporter": "python",
   "pygments_lexer": "ipython3",
   "version": "3.8.3"
  }
 },
 "nbformat": 4,
 "nbformat_minor": 4
}
