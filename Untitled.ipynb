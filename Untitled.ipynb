{
 "cells": [
  {
   "cell_type": "code",
   "execution_count": 1,
   "metadata": {},
   "outputs": [
    {
     "name": "stdout",
     "output_type": "stream",
     "text": [
      "\n",
      "Note: you may need to restart the kernel to use updated packages.\n"
     ]
    }
   ],
   "source": [
    "conda activate myenv"
   ]
  },
  {
   "cell_type": "code",
   "execution_count": 5,
   "metadata": {},
   "outputs": [
    {
     "name": "stdout",
     "output_type": "stream",
     "text": [
      "Collecting google-cloud-language\n",
      "  Downloading google_cloud_language-1.3.0-py2.py3-none-any.whl (83 kB)\n",
      "Requirement already satisfied: google-api-core[grpc]<2.0.0dev,>=1.14.0 in c:\\users\\bhaumik.jariwala\\miniconda3\\lib\\site-packages (from google-cloud-language) (1.22.1)\n",
      "Requirement already satisfied: requests<3.0.0dev,>=2.18.0 in c:\\users\\bhaumik.jariwala\\miniconda3\\lib\\site-packages (from google-api-core[grpc]<2.0.0dev,>=1.14.0->google-cloud-language) (2.23.0)\n",
      "Requirement already satisfied: pytz in c:\\users\\bhaumik.jariwala\\miniconda3\\lib\\site-packages (from google-api-core[grpc]<2.0.0dev,>=1.14.0->google-cloud-language) (2020.1)\n",
      "Requirement already satisfied: protobuf>=3.12.0 in c:\\users\\bhaumik.jariwala\\miniconda3\\lib\\site-packages (from google-api-core[grpc]<2.0.0dev,>=1.14.0->google-cloud-language) (3.12.4)\n",
      "Requirement already satisfied: google-auth<2.0dev,>=1.19.1 in c:\\users\\bhaumik.jariwala\\miniconda3\\lib\\site-packages (from google-api-core[grpc]<2.0.0dev,>=1.14.0->google-cloud-language) (1.20.1)\n",
      "Requirement already satisfied: googleapis-common-protos<2.0dev,>=1.6.0 in c:\\users\\bhaumik.jariwala\\miniconda3\\lib\\site-packages (from google-api-core[grpc]<2.0.0dev,>=1.14.0->google-cloud-language) (1.52.0)\n",
      "Requirement already satisfied: six>=1.10.0 in c:\\users\\bhaumik.jariwala\\miniconda3\\lib\\site-packages (from google-api-core[grpc]<2.0.0dev,>=1.14.0->google-cloud-language) (1.14.0)\n",
      "Requirement already satisfied: setuptools>=34.0.0 in c:\\users\\bhaumik.jariwala\\miniconda3\\lib\\site-packages (from google-api-core[grpc]<2.0.0dev,>=1.14.0->google-cloud-language) (46.4.0.post20200518)\n",
      "Collecting grpcio<2.0dev,>=1.29.0; extra == \"grpc\"\n",
      "  Downloading grpcio-1.31.0-cp38-cp38-win_amd64.whl (2.6 MB)\n",
      "Requirement already satisfied: certifi>=2017.4.17 in c:\\users\\bhaumik.jariwala\\miniconda3\\lib\\site-packages (from requests<3.0.0dev,>=2.18.0->google-api-core[grpc]<2.0.0dev,>=1.14.0->google-cloud-language) (2020.6.20)\n",
      "Requirement already satisfied: chardet<4,>=3.0.2 in c:\\users\\bhaumik.jariwala\\miniconda3\\lib\\site-packages (from requests<3.0.0dev,>=2.18.0->google-api-core[grpc]<2.0.0dev,>=1.14.0->google-cloud-language) (3.0.4)\n",
      "Requirement already satisfied: idna<3,>=2.5 in c:\\users\\bhaumik.jariwala\\miniconda3\\lib\\site-packages (from requests<3.0.0dev,>=2.18.0->google-api-core[grpc]<2.0.0dev,>=1.14.0->google-cloud-language) (2.9)\n",
      "Requirement already satisfied: urllib3!=1.25.0,!=1.25.1,<1.26,>=1.21.1 in c:\\users\\bhaumik.jariwala\\miniconda3\\lib\\site-packages (from requests<3.0.0dev,>=2.18.0->google-api-core[grpc]<2.0.0dev,>=1.14.0->google-cloud-language) (1.25.8)\n",
      "Requirement already satisfied: rsa<5,>=3.1.4; python_version >= \"3.5\" in c:\\users\\bhaumik.jariwala\\miniconda3\\lib\\site-packages (from google-auth<2.0dev,>=1.19.1->google-api-core[grpc]<2.0.0dev,>=1.14.0->google-cloud-language) (4.6)\n",
      "Requirement already satisfied: pyasn1-modules>=0.2.1 in c:\\users\\bhaumik.jariwala\\miniconda3\\lib\\site-packages (from google-auth<2.0dev,>=1.19.1->google-api-core[grpc]<2.0.0dev,>=1.14.0->google-cloud-language) (0.2.8)\n",
      "Requirement already satisfied: cachetools<5.0,>=2.0.0 in c:\\users\\bhaumik.jariwala\\miniconda3\\lib\\site-packages (from google-auth<2.0dev,>=1.19.1->google-api-core[grpc]<2.0.0dev,>=1.14.0->google-cloud-language) (4.1.1)\n",
      "Requirement already satisfied: pyasn1>=0.1.3 in c:\\users\\bhaumik.jariwala\\miniconda3\\lib\\site-packages (from rsa<5,>=3.1.4; python_version >= \"3.5\"->google-auth<2.0dev,>=1.19.1->google-api-core[grpc]<2.0.0dev,>=1.14.0->google-cloud-language) (0.4.8)\n",
      "Installing collected packages: google-cloud-language, grpcio\n",
      "Successfully installed google-cloud-language-1.3.0 grpcio-1.31.0\n"
     ]
    }
   ],
   "source": [
    "!pip install google-cloud-language"
   ]
  },
  {
   "cell_type": "code",
   "execution_count": 6,
   "metadata": {},
   "outputs": [],
   "source": [
    "import requests\n",
    "import json\n",
    "\n",
    "from google.cloud import language\n",
    "from google.oauth2 import service_account\n",
    "from google.cloud.language import enums\n",
    "from google.cloud.language import types"
   ]
  },
  {
   "cell_type": "code",
   "execution_count": 8,
   "metadata": {},
   "outputs": [],
   "source": [
    "client = language.LanguageServiceClient.from_service_account_json('services.json')"
   ]
  },
  {
   "cell_type": "code",
   "execution_count": 13,
   "metadata": {},
   "outputs": [],
   "source": [
    "# Define functions\n",
    "def pull_googlenlp(client, url, invalid_types = ['OTHER'], **data):\n",
    "    html = load_text_from_url(url, **data)\n",
    "    if not html:\n",
    "        return None\n",
    "   \n",
    "        document = types.Document(\n",
    "        content=html,\n",
    "        type=language.enums.Document.Type.HTML )\n",
    "\n",
    "        features = {'extract_syntax': True,\n",
    "                'extract_entities': True,\n",
    "                'extract_document_sentiment': True,\n",
    "                'extract_entity_sentiment': True,\n",
    "                'classify_text': False\n",
    "                }\n",
    "   \n",
    "        response = client.annotate_text(document=document, features=features)\n",
    "        sentiment = response.document_sentiment\n",
    "        entities = response.entities\n",
    "   \n",
    "        response = client.classify_text(document)\n",
    "        categories = response.categories\n",
    "         \n",
    "        def get_type(type):\n",
    "            return client.enums.Entity.Type(entity.type).name\n",
    "   \n",
    "        result = {}\n",
    "   \n",
    "        result['sentiment'] = []    \n",
    "        result['entities'] = []\n",
    "        result['categories'] = []\n",
    "\n",
    "        if sentiment:\n",
    "            result['sentiment'] = [{ 'magnitude': sentiment.magnitude, 'score':sentiment.score }]\n",
    "         \n",
    "        for entity in entities:\n",
    "            if get_type(entity.type) not in invalid_types:\n",
    "                result['entities'].append({'name': entity.name, 'type': get_type(entity.type), 'salience': entity.salience, 'wikipedia_url': entity.metadata.get('wikipedia_url', '-')  })\n",
    "         \n",
    "        for category in categories:\n",
    "            result['categories'].append({'name':category.name, 'confidence': category.confidence})\n",
    "         \n",
    "    return result"
   ]
  },
  {
   "cell_type": "code",
   "execution_count": 14,
   "metadata": {},
   "outputs": [],
   "source": [
    "def load_text_from_url(url, **data):\n",
    "    timeout = data.get('timeout', 20)\n",
    "    results = []\n",
    "    try:   \n",
    "        print(\"Extracting text from: {}\".format(url))\n",
    "        response = requests.get(url, timeout=timeout)\n",
    "        text = response.text\n",
    "        status = response.status_code\n",
    "        if status == 200 and len(text) > 0:\n",
    "            return text\n",
    "        return None\n",
    "    except Exception as e:\n",
    "        print('Problem with url: {0}.'.format(url))\n",
    "    return None"
   ]
  },
  {
   "cell_type": "code",
   "execution_count": 16,
   "metadata": {},
   "outputs": [],
   "source": [
    "import pandas as pd\n",
    "import numpy as np\n",
    "import re"
   ]
  },
  {
   "cell_type": "code",
   "execution_count": 17,
   "metadata": {},
   "outputs": [],
   "source": [
    "data = pd.read_csv(\"export_dataframe_cleaner1.csv\")\n",
    "df = data.copy()"
   ]
  },
  {
   "cell_type": "code",
   "execution_count": 18,
   "metadata": {},
   "outputs": [],
   "source": [
    "def print_top(obj, n=10):\n",
    "    if isinstance(obj,dict):\n",
    "        for k,v in obj.items():\n",
    "            if not isinstance(v,list):\n",
    "                print(k,\":\",v)\n",
    "            else:\n",
    "                print()\n",
    "                print(\"###\",k.title(),\"#####\")\n",
    "                print_top(v,n)\n",
    "    elif isinstance(obj, list):\n",
    "        for v in obj[:n]:\n",
    "            print()\n",
    "            print_top(v,n)"
   ]
  },
  {
   "cell_type": "code",
   "execution_count": null,
   "metadata": {},
   "outputs": [],
   "source": []
  }
 ],
 "metadata": {
  "kernelspec": {
   "display_name": "Python 3",
   "language": "python",
   "name": "python3"
  },
  "language_info": {
   "codemirror_mode": {
    "name": "ipython",
    "version": 3
   },
   "file_extension": ".py",
   "mimetype": "text/x-python",
   "name": "python",
   "nbconvert_exporter": "python",
   "pygments_lexer": "ipython3",
   "version": "3.8.3"
  }
 },
 "nbformat": 4,
 "nbformat_minor": 4
}
