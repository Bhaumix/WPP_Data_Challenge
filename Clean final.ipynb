{
 "cells": [
  {
   "cell_type": "code",
   "execution_count": 3,
   "metadata": {},
   "outputs": [],
   "source": [
    "import pandas as pd\n",
    "import numpy as np\n",
    "import re\n",
    "\n",
    "data = pd.read_csv(\"test.csv\")\n",
    "df = data.copy()\n",
    "\n",
    "df['summary'] = df['summary'].astype(str)\n",
    "\n",
    "df['summary_clean'] = df['summary'].map(lambda x: re.sub(r\"\\W+|_\", '', x))\n",
    "\n",
    "head_list = [\"Data Origin:\",\"Who:\",\"What:\",\"When:\",\"Auto-Sync:\",\"Cite:\",\"_Source:_\",\"Licensing:\",\"Updated:\",\"About this Dataset\",\"Source:\",\"Caption:\",\"Proposed sentence:\",\"Geographic Coverage:\",\"Methodology:\",\"Sectoral Coverage:\",\"Temporal Converage:\",\"Type:\",\"Source Description:\",\"Unique identifier:\",\"License:\"]\n",
    "\n",
    "for i, row in df.iterrows():\n",
    "    list1 = []\n",
    "    dic = {}\n",
    "    list1 = row.summary.split(\"**\")\n",
    "    list1.pop(0)\n",
    "    dic = dict(zip(list1[::2], list1[1::2]))\n",
    "    \n",
    "    for k, v in dic.items():\n",
    "        if k in head_list:\n",
    "            header_name = re.sub(r\"\\W+|_\", \" \", str(k))\n",
    "            val = re.sub(r'\\W+|_', ' ', dic[k])\n",
    "            df.at[i, str(header_name).strip()] = val.strip()\n",
    "            \n",
    "df[\"final_text\"] = df[\"What\"]  + df[\"Source Description\"] + df[\"Cite\"]\n",
    "\n",
    "df.to_csv ('export_dataframe_cleaner1.csv', index = False, header=True)"
   ]
  },
  {
   "cell_type": "code",
   "execution_count": null,
   "metadata": {},
   "outputs": [],
   "source": []
  },
  {
   "cell_type": "code",
   "execution_count": 26,
   "metadata": {},
   "outputs": [],
   "source": []
  },
  {
   "cell_type": "code",
   "execution_count": 27,
   "metadata": {},
   "outputs": [],
   "source": [
    "# df = df.replace(r'^\\s*$', '', regex=True)"
   ]
  },
  {
   "cell_type": "code",
   "execution_count": 28,
   "metadata": {},
   "outputs": [],
   "source": [
    "# df = df[df['summary'].notna()]"
   ]
  },
  {
   "cell_type": "code",
   "execution_count": 29,
   "metadata": {},
   "outputs": [],
   "source": []
  },
  {
   "cell_type": "code",
   "execution_count": 30,
   "metadata": {},
   "outputs": [],
   "source": []
  },
  {
   "cell_type": "code",
   "execution_count": 31,
   "metadata": {},
   "outputs": [],
   "source": [
    "\n"
   ]
  },
  {
   "cell_type": "code",
   "execution_count": 14,
   "metadata": {},
   "outputs": [
    {
     "data": {
      "text/plain": [
       "'What'"
      ]
     },
     "execution_count": 14,
     "metadata": {},
     "output_type": "execute_result"
    }
   ],
   "source": [
    "re.sub('\\W+','', \"What:\")"
   ]
  },
  {
   "cell_type": "code",
   "execution_count": null,
   "metadata": {},
   "outputs": [],
   "source": []
  },
  {
   "cell_type": "code",
   "execution_count": 87,
   "metadata": {},
   "outputs": [],
   "source": [
    "for i, row in df.iterrows():\n",
    "    list1 = []\n",
    "    dic = {}\n",
    "    list1 = row.summary.split(\"**\")\n",
    "    list1.pop(0)\n",
    "    dic = dict(zip(list1[::2], list1[1::2]))\n",
    "    \n",
    "    for k, v in dic.items():\n",
    "        if (\"Data Origin\" in k):\n",
    "            txt = dic[k]\n",
    "            txt = txt.replace(\": \",\"\",1)\n",
    "            df.at[i, 'Data Origin'] = txt.strip()\n",
    "            txt=\"\"\n",
    "        if (\"Who\" in k):\n",
    "            df.at[i, 'Who'] = dic[k].strip()\n",
    "        if (\"What\" in k):\n",
    "            txt = dic[k]\n",
    "            txt = txt.replace(\"*\",\"\")\n",
    "            txt = txt.strip()\n",
    "            df.at[i, 'What'] = txt.strip('\\\"')\n",
    "            txt = \"\"\n",
    "        if (\"When\" in k):\n",
    "            df.at[i, 'When'] = dic[k].strip()\n",
    "        if (\"Auto-Sync\" in k):\n",
    "            df.at[i, 'Auto-Sync'] = dic[k].strip()\n",
    "        if (\"_Source:_\" in k):\n",
    "            df.at[i, 'Source'] = dic[k].strip()\n",
    "        if (\"Cite\" in k):\n",
    "            df.at[i, 'Cite'] = dic[k].strip()\n",
    "        if (\"Source Description:\" in k):\n",
    "            df.at[i, 'Source Description'] = dic[k].strip()\n",
    "        if (\"Updated:\" in k):\n",
    "            df.at[i, 'Updated'] = dic[k].strip()\n",
    "        if (\"Cite\" in k):\n",
    "            df.at[i, 'Cite'] = dic[k].strip()\n",
    "        if (\"Cite\" in k):\n",
    "            df.at[i, 'Cite'] = dic[k].strip()"
   ]
  },
  {
   "cell_type": "code",
   "execution_count": 32,
   "metadata": {},
   "outputs": [],
   "source": []
  },
  {
   "cell_type": "code",
   "execution_count": 82,
   "metadata": {},
   "outputs": [
    {
     "data": {
      "text/plain": [
       "dtype('O')"
      ]
     },
     "execution_count": 82,
     "metadata": {},
     "output_type": "execute_result"
    }
   ],
   "source": [
    "df['summary'].dtypes"
   ]
  },
  {
   "cell_type": "code",
   "execution_count": null,
   "metadata": {},
   "outputs": [],
   "source": []
  }
 ],
 "metadata": {
  "kernelspec": {
   "display_name": "Python 3",
   "language": "python",
   "name": "python3"
  },
  "language_info": {
   "codemirror_mode": {
    "name": "ipython",
    "version": 3
   },
   "file_extension": ".py",
   "mimetype": "text/x-python",
   "name": "python",
   "nbconvert_exporter": "python",
   "pygments_lexer": "ipython3",
   "version": "3.8.3"
  }
 },
 "nbformat": 4,
 "nbformat_minor": 4
}
